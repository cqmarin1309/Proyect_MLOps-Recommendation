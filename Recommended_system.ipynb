{
 "cells": [
  {
   "cell_type": "markdown",
   "metadata": {},
   "source": [
    "### Sistema de Recomendación basado en contenido"
   ]
  },
  {
   "cell_type": "code",
   "execution_count": 1,
   "metadata": {},
   "outputs": [],
   "source": [
    "# Importar las librerías que necesitaremos\n",
    "import pandas as pd\n",
    "import numpy as np\n",
    "import seaborn as sns\n",
    "import matplotlib.pyplot as plt\n",
    "\n",
    "from sklearn.feature_extraction.text import TfidfVectorizer\n",
    "from sklearn.metrics.pairwise import linear_kernel\n",
    "\n",
    "#Importamos warnings para evitar los mensajes de error\n",
    "import warnings\n",
    "warnings.filterwarnings(\"ignore\")\n",
    "\n",
    "# Librerías adicionales\n",
    "from ast import literal_eval  # Convierte string a list\n",
    "\n",
    "# Establecer opciones de visualización para mostrar todas las columnas y filas\n",
    "pd.set_option(\"display.max_columns\", None)\n",
    "pd.set_option(\"display.max_rows\", None)"
   ]
  },
  {
   "cell_type": "code",
   "execution_count": 2,
   "metadata": {},
   "outputs": [],
   "source": [
    "df = pd.read_csv('movies.csv')"
   ]
  },
  {
   "cell_type": "code",
   "execution_count": 3,
   "metadata": {},
   "outputs": [
    {
     "data": {
      "text/html": [
       "<div>\n",
       "<style scoped>\n",
       "    .dataframe tbody tr th:only-of-type {\n",
       "        vertical-align: middle;\n",
       "    }\n",
       "\n",
       "    .dataframe tbody tr th {\n",
       "        vertical-align: top;\n",
       "    }\n",
       "\n",
       "    .dataframe thead th {\n",
       "        text-align: right;\n",
       "    }\n",
       "</style>\n",
       "<table border=\"1\" class=\"dataframe\">\n",
       "  <thead>\n",
       "    <tr style=\"text-align: right;\">\n",
       "      <th></th>\n",
       "      <th>id</th>\n",
       "      <th>budget</th>\n",
       "      <th>overview</th>\n",
       "      <th>popularity</th>\n",
       "      <th>revenue</th>\n",
       "      <th>runtime</th>\n",
       "      <th>title</th>\n",
       "      <th>vote_average</th>\n",
       "      <th>vote_count</th>\n",
       "      <th>collections</th>\n",
       "      <th>company</th>\n",
       "      <th>country</th>\n",
       "      <th>language</th>\n",
       "      <th>director</th>\n",
       "      <th>genre</th>\n",
       "      <th>actor</th>\n",
       "      <th>year</th>\n",
       "      <th>return</th>\n",
       "    </tr>\n",
       "  </thead>\n",
       "  <tbody>\n",
       "    <tr>\n",
       "      <th>0</th>\n",
       "      <td>862</td>\n",
       "      <td>30000000.0</td>\n",
       "      <td>Led by Woody, Andy's toys live happily in his ...</td>\n",
       "      <td>21.946943</td>\n",
       "      <td>373554033.0</td>\n",
       "      <td>81.0</td>\n",
       "      <td>Toy Story</td>\n",
       "      <td>7.7</td>\n",
       "      <td>5415.0</td>\n",
       "      <td>Toy Story Collection</td>\n",
       "      <td>Pixar Animation Studios</td>\n",
       "      <td>United States of America</td>\n",
       "      <td>English</td>\n",
       "      <td>John Lasseter</td>\n",
       "      <td>['Animation', 'Comedy', 'Family']</td>\n",
       "      <td>['Tom Hanks', 'Tim Allen', 'Don Rickles']</td>\n",
       "      <td>1995</td>\n",
       "      <td>12.45</td>\n",
       "    </tr>\n",
       "  </tbody>\n",
       "</table>\n",
       "</div>"
      ],
      "text/plain": [
       "    id      budget                                           overview  \\\n",
       "0  862  30000000.0  Led by Woody, Andy's toys live happily in his ...   \n",
       "\n",
       "   popularity      revenue  runtime      title  vote_average  vote_count  \\\n",
       "0   21.946943  373554033.0     81.0  Toy Story           7.7      5415.0   \n",
       "\n",
       "            collections                  company                   country  \\\n",
       "0  Toy Story Collection  Pixar Animation Studios  United States of America   \n",
       "\n",
       "  language       director                              genre  \\\n",
       "0  English  John Lasseter  ['Animation', 'Comedy', 'Family']   \n",
       "\n",
       "                                       actor  year  return  \n",
       "0  ['Tom Hanks', 'Tim Allen', 'Don Rickles']  1995   12.45  "
      ]
     },
     "execution_count": 3,
     "metadata": {},
     "output_type": "execute_result"
    }
   ],
   "source": [
    "df.head(1)"
   ]
  },
  {
   "cell_type": "code",
   "execution_count": 4,
   "metadata": {},
   "outputs": [
    {
     "name": "stdout",
     "output_type": "stream",
     "text": [
      "<class 'pandas.core.frame.DataFrame'>\n",
      "RangeIndex: 5300 entries, 0 to 5299\n",
      "Data columns (total 18 columns):\n",
      " #   Column        Non-Null Count  Dtype  \n",
      "---  ------        --------------  -----  \n",
      " 0   id            5300 non-null   int64  \n",
      " 1   budget        5300 non-null   float64\n",
      " 2   overview      5300 non-null   object \n",
      " 3   popularity    5300 non-null   float64\n",
      " 4   revenue       5300 non-null   float64\n",
      " 5   runtime       5300 non-null   float64\n",
      " 6   title         5300 non-null   object \n",
      " 7   vote_average  5300 non-null   float64\n",
      " 8   vote_count    5300 non-null   float64\n",
      " 9   collections   5300 non-null   object \n",
      " 10  company       5300 non-null   object \n",
      " 11  country       5300 non-null   object \n",
      " 12  language      5293 non-null   object \n",
      " 13  director      5300 non-null   object \n",
      " 14  genre         5300 non-null   object \n",
      " 15  actor         5300 non-null   object \n",
      " 16  year          5300 non-null   int64  \n",
      " 17  return        5300 non-null   float64\n",
      "dtypes: float64(7), int64(2), object(9)\n",
      "memory usage: 745.4+ KB\n"
     ]
    }
   ],
   "source": [
    "df.info()"
   ]
  },
  {
   "cell_type": "code",
   "execution_count": 5,
   "metadata": {},
   "outputs": [],
   "source": [
    "tfidf = TfidfVectorizer(stop_words=\"english\")\n",
    "df['overview'] = df['overview'].fillna('')\n",
    "tfidf_matrix = tfidf.fit_transform(df[\"overview\"])\n",
    "\n",
    "indices = pd.Series(df.index, index=df[\"title\"]).drop_duplicates()"
   ]
  },
  {
   "cell_type": "code",
   "execution_count": 6,
   "metadata": {},
   "outputs": [],
   "source": [
    "cosine_sim = linear_kernel(tfidf_matrix, tfidf_matrix)"
   ]
  },
  {
   "cell_type": "code",
   "execution_count": 7,
   "metadata": {},
   "outputs": [],
   "source": [
    "def get_recommendations(title, cosine_sim=cosine_sim):\n",
    "    idx = indices[title]\n",
    "    sim_scores = list(enumerate(cosine_sim[idx]))\n",
    "    sim_scores = sorted(sim_scores, key=lambda x: x[1], reverse=True)\n",
    "    sim_scores = sim_scores[1:11]\n",
    "    movie_indices = [i[0] for i in sim_scores]\n",
    "    return df['title'].iloc[movie_indices]"
   ]
  },
  {
   "cell_type": "code",
   "execution_count": 9,
   "metadata": {},
   "outputs": [
    {
     "data": {
      "text/plain": [
       "2390                             Quintet\n",
       "5129                        Snowed Under\n",
       "3468                              DeVour\n",
       "4576                              Pixels\n",
       "2157                  The Last of Sheila\n",
       "2185                The Last Starfighter\n",
       "1602                         5 Card Stud\n",
       "4073             Guardians of the Galaxy\n",
       "3703                         Geri's Game\n",
       "5052    How to Hook Up Your Home Theater\n",
       "Name: title, dtype: object"
      ]
     },
     "execution_count": 9,
     "metadata": {},
     "output_type": "execute_result"
    }
   ],
   "source": [
    "get_recommendations('Jumanji')"
   ]
  },
  {
   "cell_type": "code",
   "execution_count": null,
   "metadata": {},
   "outputs": [],
   "source": []
  }
 ],
 "metadata": {
  "kernelspec": {
   "display_name": "Python 3",
   "language": "python",
   "name": "python3"
  },
  "language_info": {
   "codemirror_mode": {
    "name": "ipython",
    "version": 3
   },
   "file_extension": ".py",
   "mimetype": "text/x-python",
   "name": "python",
   "nbconvert_exporter": "python",
   "pygments_lexer": "ipython3",
   "version": "3.11.2"
  },
  "orig_nbformat": 4
 },
 "nbformat": 4,
 "nbformat_minor": 2
}
